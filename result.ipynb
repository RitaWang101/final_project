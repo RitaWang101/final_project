{
 "cells": [
  {
   "cell_type": "code",
   "execution_count": 1,
   "id": "c5d22f2e-a293-4e7d-a1d1-c0ddcaec258b",
   "metadata": {},
   "outputs": [
    {
     "name": "stdout",
     "output_type": "stream",
     "text": [
      "Working directory set to: /Users/qiqi/Desktop/final_project\n"
     ]
    }
   ],
   "source": [
    "import os, sys\n",
    "from pathlib import Path\n",
    "\n",
    "repo_root = Path().resolve()\n",
    "os.chdir(repo_root)\n",
    "\n",
    "#find config.py and the src/ modules\n",
    "sys.path.insert(0, str(repo_root))            # for `import config`\n",
    "sys.path.insert(0, str(repo_root / 'src'))    # for `import src_*`\n",
    "\n",
    "print(f\"Working directory set to: {repo_root}\")"
   ]
  },
  {
   "cell_type": "code",
   "execution_count": 2,
   "id": "6e8fb066-796e-4a32-9f63-fda5fcee4e8e",
   "metadata": {},
   "outputs": [
    {
     "name": "stderr",
     "output_type": "stream",
     "text": [
      "Version 7.1.4 of praw is outdated. Version 7.8.1 was released Friday October 25, 2024.\n"
     ]
    }
   ],
   "source": [
    "#Import the parse.py and reddit_clean.py\n",
    "from src.src_parse import fetch_data\n",
    "from src.src_reddit_cleaning import clean_reddit_comments\n",
    "import pandas as pd "
   ]
  },
  {
   "cell_type": "code",
   "execution_count": 3,
   "id": "5cd2bed2-a297-44e1-a2bc-e4c144df3cb8",
   "metadata": {},
   "outputs": [
    {
     "name": "stdout",
     "output_type": "stream",
     "text": [
      "[+] Fetching from r/iPhone13…\n",
      "[+] Fetching from r/iPhoneXR…\n"
     ]
    },
    {
     "ename": "AssertionError",
     "evalue": "Unexpected status code: 429",
     "output_type": "error",
     "traceback": [
      "\u001b[0;31m---------------------------------------------------------------------------\u001b[0m",
      "\u001b[0;31mAssertionError\u001b[0m                            Traceback (most recent call last)",
      "Cell \u001b[0;32mIn[3], line 2\u001b[0m\n\u001b[1;32m      1\u001b[0m \u001b[38;5;66;03m#Fetch raw Reddit data\u001b[39;00m\n\u001b[0;32m----> 2\u001b[0m raw_reddit_df \u001b[38;5;241m=\u001b[39m fetch_data()\n\u001b[1;32m      3\u001b[0m \u001b[38;5;28mprint\u001b[39m(\u001b[38;5;124mf\u001b[39m\u001b[38;5;124m\"\u001b[39m\u001b[38;5;124mFetched \u001b[39m\u001b[38;5;132;01m{\u001b[39;00m\u001b[38;5;28mlen\u001b[39m(raw_reddit_df)\u001b[38;5;132;01m}\u001b[39;00m\u001b[38;5;124m posts\u001b[39m\u001b[38;5;124m\"\u001b[39m) \n\u001b[1;32m      4\u001b[0m raw_reddit_df\u001b[38;5;241m.\u001b[39mto_csv(\u001b[38;5;124m\"\u001b[39m\u001b[38;5;124mreddit_iphone13XR_data.csv\u001b[39m\u001b[38;5;124m\"\u001b[39m, index\u001b[38;5;241m=\u001b[39m\u001b[38;5;28;01mFalse\u001b[39;00m, encoding\u001b[38;5;241m=\u001b[39m\u001b[38;5;124m\"\u001b[39m\u001b[38;5;124mutf-8-sig\u001b[39m\u001b[38;5;124m\"\u001b[39m)\n",
      "File \u001b[0;32m~/Desktop/final_project/src/src_parse.py:35\u001b[0m, in \u001b[0;36mfetch_data\u001b[0;34m()\u001b[0m\n\u001b[1;32m     33\u001b[0m \u001b[38;5;28;01mfor\u001b[39;00m sub \u001b[38;5;129;01min\u001b[39;00m SUBREDDITS:\n\u001b[1;32m     34\u001b[0m     \u001b[38;5;28mprint\u001b[39m(\u001b[38;5;124mf\u001b[39m\u001b[38;5;124m\"\u001b[39m\u001b[38;5;124m[+] Fetching from r/\u001b[39m\u001b[38;5;132;01m{\u001b[39;00msub\u001b[38;5;132;01m}\u001b[39;00m\u001b[38;5;124m…\u001b[39m\u001b[38;5;124m\"\u001b[39m)\n\u001b[0;32m---> 35\u001b[0m     \u001b[38;5;28;01mfor\u001b[39;00m post \u001b[38;5;129;01min\u001b[39;00m reddit\u001b[38;5;241m.\u001b[39msubreddit(sub)\u001b[38;5;241m.\u001b[39mhot(limit\u001b[38;5;241m=\u001b[39mPOST_LIMIT):\n\u001b[1;32m     36\u001b[0m         \u001b[38;5;28;01mif\u001b[39;00m post\u001b[38;5;241m.\u001b[39mstickied:\n\u001b[1;32m     37\u001b[0m             \u001b[38;5;28;01mcontinue\u001b[39;00m\n",
      "File \u001b[0;32m/opt/anaconda3/lib/python3.12/site-packages/praw/models/listing/generator.py:63\u001b[0m, in \u001b[0;36mListingGenerator.__next__\u001b[0;34m(self)\u001b[0m\n\u001b[1;32m     60\u001b[0m     \u001b[38;5;28;01mraise\u001b[39;00m \u001b[38;5;167;01mStopIteration\u001b[39;00m()\n\u001b[1;32m     62\u001b[0m \u001b[38;5;28;01mif\u001b[39;00m \u001b[38;5;28mself\u001b[39m\u001b[38;5;241m.\u001b[39m_listing \u001b[38;5;129;01mis\u001b[39;00m \u001b[38;5;28;01mNone\u001b[39;00m \u001b[38;5;129;01mor\u001b[39;00m \u001b[38;5;28mself\u001b[39m\u001b[38;5;241m.\u001b[39m_list_index \u001b[38;5;241m>\u001b[39m\u001b[38;5;241m=\u001b[39m \u001b[38;5;28mlen\u001b[39m(\u001b[38;5;28mself\u001b[39m\u001b[38;5;241m.\u001b[39m_listing):\n\u001b[0;32m---> 63\u001b[0m     \u001b[38;5;28mself\u001b[39m\u001b[38;5;241m.\u001b[39m_next_batch()\n\u001b[1;32m     65\u001b[0m \u001b[38;5;28mself\u001b[39m\u001b[38;5;241m.\u001b[39m_list_index \u001b[38;5;241m+\u001b[39m\u001b[38;5;241m=\u001b[39m \u001b[38;5;241m1\u001b[39m\n\u001b[1;32m     66\u001b[0m \u001b[38;5;28mself\u001b[39m\u001b[38;5;241m.\u001b[39myielded \u001b[38;5;241m+\u001b[39m\u001b[38;5;241m=\u001b[39m \u001b[38;5;241m1\u001b[39m\n",
      "File \u001b[0;32m/opt/anaconda3/lib/python3.12/site-packages/praw/models/listing/generator.py:73\u001b[0m, in \u001b[0;36mListingGenerator._next_batch\u001b[0;34m(self)\u001b[0m\n\u001b[1;32m     70\u001b[0m \u001b[38;5;28;01mif\u001b[39;00m \u001b[38;5;28mself\u001b[39m\u001b[38;5;241m.\u001b[39m_exhausted:\n\u001b[1;32m     71\u001b[0m     \u001b[38;5;28;01mraise\u001b[39;00m \u001b[38;5;167;01mStopIteration\u001b[39;00m()\n\u001b[0;32m---> 73\u001b[0m \u001b[38;5;28mself\u001b[39m\u001b[38;5;241m.\u001b[39m_listing \u001b[38;5;241m=\u001b[39m \u001b[38;5;28mself\u001b[39m\u001b[38;5;241m.\u001b[39m_reddit\u001b[38;5;241m.\u001b[39mget(\u001b[38;5;28mself\u001b[39m\u001b[38;5;241m.\u001b[39murl, params\u001b[38;5;241m=\u001b[39m\u001b[38;5;28mself\u001b[39m\u001b[38;5;241m.\u001b[39mparams)\n\u001b[1;32m     74\u001b[0m \u001b[38;5;28;01mif\u001b[39;00m \u001b[38;5;28misinstance\u001b[39m(\u001b[38;5;28mself\u001b[39m\u001b[38;5;241m.\u001b[39m_listing, \u001b[38;5;28mlist\u001b[39m):\n\u001b[1;32m     75\u001b[0m     \u001b[38;5;28mself\u001b[39m\u001b[38;5;241m.\u001b[39m_listing \u001b[38;5;241m=\u001b[39m \u001b[38;5;28mself\u001b[39m\u001b[38;5;241m.\u001b[39m_listing[\u001b[38;5;241m1\u001b[39m]  \u001b[38;5;66;03m# for submission duplicates\u001b[39;00m\n",
      "File \u001b[0;32m/opt/anaconda3/lib/python3.12/site-packages/praw/reddit.py:530\u001b[0m, in \u001b[0;36mReddit.get\u001b[0;34m(self, path, params)\u001b[0m\n\u001b[1;32m    519\u001b[0m \u001b[38;5;28;01mdef\u001b[39;00m \u001b[38;5;21mget\u001b[39m(\n\u001b[1;32m    520\u001b[0m     \u001b[38;5;28mself\u001b[39m,\n\u001b[1;32m    521\u001b[0m     path: \u001b[38;5;28mstr\u001b[39m,\n\u001b[1;32m    522\u001b[0m     params: Optional[Union[\u001b[38;5;28mstr\u001b[39m, Dict[\u001b[38;5;28mstr\u001b[39m, Union[\u001b[38;5;28mstr\u001b[39m, \u001b[38;5;28mint\u001b[39m]]]] \u001b[38;5;241m=\u001b[39m \u001b[38;5;28;01mNone\u001b[39;00m,\n\u001b[1;32m    523\u001b[0m ):\n\u001b[1;32m    524\u001b[0m \u001b[38;5;250m    \u001b[39m\u001b[38;5;124;03m\"\"\"Return parsed objects returned from a GET request to ``path``.\u001b[39;00m\n\u001b[1;32m    525\u001b[0m \n\u001b[1;32m    526\u001b[0m \u001b[38;5;124;03m    :param path: The path to fetch.\u001b[39;00m\n\u001b[1;32m    527\u001b[0m \u001b[38;5;124;03m    :param params: The query parameters to add to the request (default: None).\u001b[39;00m\n\u001b[1;32m    528\u001b[0m \n\u001b[1;32m    529\u001b[0m \u001b[38;5;124;03m    \"\"\"\u001b[39;00m\n\u001b[0;32m--> 530\u001b[0m     \u001b[38;5;28;01mreturn\u001b[39;00m \u001b[38;5;28mself\u001b[39m\u001b[38;5;241m.\u001b[39m_objectify_request(method\u001b[38;5;241m=\u001b[39m\u001b[38;5;124m\"\u001b[39m\u001b[38;5;124mGET\u001b[39m\u001b[38;5;124m\"\u001b[39m, params\u001b[38;5;241m=\u001b[39mparams, path\u001b[38;5;241m=\u001b[39mpath)\n",
      "File \u001b[0;32m/opt/anaconda3/lib/python3.12/site-packages/praw/reddit.py:626\u001b[0m, in \u001b[0;36mReddit._objectify_request\u001b[0;34m(self, data, files, json, method, params, path)\u001b[0m\n\u001b[1;32m    602\u001b[0m \u001b[38;5;28;01mdef\u001b[39;00m \u001b[38;5;21m_objectify_request\u001b[39m(\n\u001b[1;32m    603\u001b[0m     \u001b[38;5;28mself\u001b[39m,\n\u001b[1;32m    604\u001b[0m     data: Optional[Union[Dict[\u001b[38;5;28mstr\u001b[39m, Union[\u001b[38;5;28mstr\u001b[39m, Any]], \u001b[38;5;28mbytes\u001b[39m, IO, \u001b[38;5;28mstr\u001b[39m]] \u001b[38;5;241m=\u001b[39m \u001b[38;5;28;01mNone\u001b[39;00m,\n\u001b[0;32m   (...)\u001b[0m\n\u001b[1;32m    609\u001b[0m     path: \u001b[38;5;28mstr\u001b[39m \u001b[38;5;241m=\u001b[39m \u001b[38;5;124m\"\u001b[39m\u001b[38;5;124m\"\u001b[39m,\n\u001b[1;32m    610\u001b[0m ) \u001b[38;5;241m-\u001b[39m\u001b[38;5;241m>\u001b[39m Any:\n\u001b[1;32m    611\u001b[0m \u001b[38;5;250m    \u001b[39m\u001b[38;5;124;03m\"\"\"Run a request through the ``Objector``.\u001b[39;00m\n\u001b[1;32m    612\u001b[0m \n\u001b[1;32m    613\u001b[0m \u001b[38;5;124;03m    :param data: Dictionary, bytes, or file-like object to send in the body of the\u001b[39;00m\n\u001b[0;32m   (...)\u001b[0m\n\u001b[1;32m    623\u001b[0m \n\u001b[1;32m    624\u001b[0m \u001b[38;5;124;03m    \"\"\"\u001b[39;00m\n\u001b[1;32m    625\u001b[0m     \u001b[38;5;28;01mreturn\u001b[39;00m \u001b[38;5;28mself\u001b[39m\u001b[38;5;241m.\u001b[39m_objector\u001b[38;5;241m.\u001b[39mobjectify(\n\u001b[0;32m--> 626\u001b[0m         \u001b[38;5;28mself\u001b[39m\u001b[38;5;241m.\u001b[39mrequest(\n\u001b[1;32m    627\u001b[0m             data\u001b[38;5;241m=\u001b[39mdata,\n\u001b[1;32m    628\u001b[0m             files\u001b[38;5;241m=\u001b[39mfiles,\n\u001b[1;32m    629\u001b[0m             json\u001b[38;5;241m=\u001b[39mjson,\n\u001b[1;32m    630\u001b[0m             method\u001b[38;5;241m=\u001b[39mmethod,\n\u001b[1;32m    631\u001b[0m             params\u001b[38;5;241m=\u001b[39mparams,\n\u001b[1;32m    632\u001b[0m             path\u001b[38;5;241m=\u001b[39mpath,\n\u001b[1;32m    633\u001b[0m         )\n\u001b[1;32m    634\u001b[0m     )\n",
      "File \u001b[0;32m/opt/anaconda3/lib/python3.12/site-packages/praw/reddit.py:808\u001b[0m, in \u001b[0;36mReddit.request\u001b[0;34m(self, method, path, params, data, files, json)\u001b[0m\n\u001b[1;32m    806\u001b[0m     \u001b[38;5;28;01mraise\u001b[39;00m ClientException(\u001b[38;5;124m\"\u001b[39m\u001b[38;5;124mAt most one of `data` and `json` is supported.\u001b[39m\u001b[38;5;124m\"\u001b[39m)\n\u001b[1;32m    807\u001b[0m \u001b[38;5;28;01mtry\u001b[39;00m:\n\u001b[0;32m--> 808\u001b[0m     \u001b[38;5;28;01mreturn\u001b[39;00m \u001b[38;5;28mself\u001b[39m\u001b[38;5;241m.\u001b[39m_core\u001b[38;5;241m.\u001b[39mrequest(\n\u001b[1;32m    809\u001b[0m         method,\n\u001b[1;32m    810\u001b[0m         path,\n\u001b[1;32m    811\u001b[0m         data\u001b[38;5;241m=\u001b[39mdata,\n\u001b[1;32m    812\u001b[0m         files\u001b[38;5;241m=\u001b[39mfiles,\n\u001b[1;32m    813\u001b[0m         params\u001b[38;5;241m=\u001b[39mparams,\n\u001b[1;32m    814\u001b[0m         timeout\u001b[38;5;241m=\u001b[39m\u001b[38;5;28mself\u001b[39m\u001b[38;5;241m.\u001b[39mconfig\u001b[38;5;241m.\u001b[39mtimeout,\n\u001b[1;32m    815\u001b[0m         json\u001b[38;5;241m=\u001b[39mjson,\n\u001b[1;32m    816\u001b[0m     )\n\u001b[1;32m    817\u001b[0m \u001b[38;5;28;01mexcept\u001b[39;00m BadRequest \u001b[38;5;28;01mas\u001b[39;00m exception:\n\u001b[1;32m    818\u001b[0m     \u001b[38;5;28;01mtry\u001b[39;00m:\n",
      "File \u001b[0;32m/opt/anaconda3/lib/python3.12/site-packages/prawcore/sessions.py:332\u001b[0m, in \u001b[0;36mSession.request\u001b[0;34m(self, method, path, data, files, json, params, timeout)\u001b[0m\n\u001b[1;32m    330\u001b[0m     json[\u001b[38;5;124m\"\u001b[39m\u001b[38;5;124mapi_type\u001b[39m\u001b[38;5;124m\"\u001b[39m] \u001b[38;5;241m=\u001b[39m \u001b[38;5;124m\"\u001b[39m\u001b[38;5;124mjson\u001b[39m\u001b[38;5;124m\"\u001b[39m\n\u001b[1;32m    331\u001b[0m url \u001b[38;5;241m=\u001b[39m urljoin(\u001b[38;5;28mself\u001b[39m\u001b[38;5;241m.\u001b[39m_requestor\u001b[38;5;241m.\u001b[39moauth_url, path)\n\u001b[0;32m--> 332\u001b[0m \u001b[38;5;28;01mreturn\u001b[39;00m \u001b[38;5;28mself\u001b[39m\u001b[38;5;241m.\u001b[39m_request_with_retries(\n\u001b[1;32m    333\u001b[0m     data\u001b[38;5;241m=\u001b[39mdata,\n\u001b[1;32m    334\u001b[0m     files\u001b[38;5;241m=\u001b[39mfiles,\n\u001b[1;32m    335\u001b[0m     json\u001b[38;5;241m=\u001b[39mjson,\n\u001b[1;32m    336\u001b[0m     method\u001b[38;5;241m=\u001b[39mmethod,\n\u001b[1;32m    337\u001b[0m     params\u001b[38;5;241m=\u001b[39mparams,\n\u001b[1;32m    338\u001b[0m     timeout\u001b[38;5;241m=\u001b[39mtimeout,\n\u001b[1;32m    339\u001b[0m     url\u001b[38;5;241m=\u001b[39murl,\n\u001b[1;32m    340\u001b[0m )\n",
      "File \u001b[0;32m/opt/anaconda3/lib/python3.12/site-packages/prawcore/sessions.py:269\u001b[0m, in \u001b[0;36mSession._request_with_retries\u001b[0;34m(self, data, files, json, method, params, timeout, url, retry_strategy_state)\u001b[0m\n\u001b[1;32m    266\u001b[0m \u001b[38;5;28;01melif\u001b[39;00m response\u001b[38;5;241m.\u001b[39mstatus_code \u001b[38;5;241m==\u001b[39m codes[\u001b[38;5;124m\"\u001b[39m\u001b[38;5;124mno_content\u001b[39m\u001b[38;5;124m\"\u001b[39m]:\n\u001b[1;32m    267\u001b[0m     \u001b[38;5;28;01mreturn\u001b[39;00m\n\u001b[1;32m    268\u001b[0m \u001b[38;5;28;01massert\u001b[39;00m (\n\u001b[0;32m--> 269\u001b[0m     response\u001b[38;5;241m.\u001b[39mstatus_code \u001b[38;5;129;01min\u001b[39;00m \u001b[38;5;28mself\u001b[39m\u001b[38;5;241m.\u001b[39mSUCCESS_STATUSES\n\u001b[1;32m    270\u001b[0m ), \u001b[38;5;124m\"\u001b[39m\u001b[38;5;124mUnexpected status code: \u001b[39m\u001b[38;5;132;01m{}\u001b[39;00m\u001b[38;5;124m\"\u001b[39m\u001b[38;5;241m.\u001b[39mformat(response\u001b[38;5;241m.\u001b[39mstatus_code)\n\u001b[1;32m    271\u001b[0m \u001b[38;5;28;01mif\u001b[39;00m response\u001b[38;5;241m.\u001b[39mheaders\u001b[38;5;241m.\u001b[39mget(\u001b[38;5;124m\"\u001b[39m\u001b[38;5;124mcontent-length\u001b[39m\u001b[38;5;124m\"\u001b[39m) \u001b[38;5;241m==\u001b[39m \u001b[38;5;124m\"\u001b[39m\u001b[38;5;124m0\u001b[39m\u001b[38;5;124m\"\u001b[39m:\n\u001b[1;32m    272\u001b[0m     \u001b[38;5;28;01mreturn\u001b[39;00m \u001b[38;5;124m\"\u001b[39m\u001b[38;5;124m\"\u001b[39m\n",
      "\u001b[0;31mAssertionError\u001b[0m: Unexpected status code: 429"
     ]
    }
   ],
   "source": [
    "#Fetch raw Reddit data\n",
    "raw_reddit_df = fetch_data()\n",
    "print(f\"Fetched {len(raw_reddit_df)} posts\") \n",
    "raw_reddit_df.to_csv(\"reddit_iphone13XR_data.csv\", index=False, encoding=\"utf-8-sig\") "
   ]
  },
  {
   "cell_type": "code",
   "execution_count": 17,
   "id": "e330c364-2839-4f1b-988d-d6ebe0c8daee",
   "metadata": {},
   "outputs": [
    {
     "name": "stdout",
     "output_type": "stream",
     "text": [
      "[+] Cleaned Reddit data: 864 rows → newreddit_iphone13XRcleaned.csv\n",
      "Reddit cleaned: (864, 24)\n"
     ]
    }
   ],
   "source": [
    "#REDDIT SOURCE CLEANING\n",
    "df_reddit = clean_reddit_comments(\n",
    "    input_csv='reddit_iphone13XR_data.csv',\n",
    "    output_csv='newreddit_iphone13XRcleaned.csv'\n",
    ")\n",
    "print(\"Reddit cleaned:\", df_reddit.shape) "
   ]
  },
  {
   "cell_type": "code",
   "execution_count": 19,
   "id": "d3cbd619-eefa-4c32-89f2-951e7f6bd2ae",
   "metadata": {},
   "outputs": [
    {
     "name": "stdout",
     "output_type": "stream",
     "text": [
      ">>> kaggle datasets download -d mrmars1010/iphone-customer-reviews-nlp -p .\n",
      "Dataset URL: https://www.kaggle.com/datasets/mrmars1010/iphone-customer-reviews-nlp\n",
      "License(s): CC0-1.0\n",
      ">>> unzip -o iphone-customer-reviews-nlp.zip\n",
      "Archive:  iphone-customer-reviews-nlp.zip\n",
      "  inflating: iphone.csv              \n",
      ">>> rm iphone-customer-reviews-nlp.zip\n",
      ">>> kaggle datasets download -d thedevastator/apple-iphone-11-reviews-from-amazon-com -p .\n",
      "Dataset URL: https://www.kaggle.com/datasets/thedevastator/apple-iphone-11-reviews-from-amazon-com\n",
      "License(s): other\n",
      ">>> unzip -o apple-iphone-11-reviews-from-amazon-com.zip\n",
      "Archive:  apple-iphone-11-reviews-from-amazon-com.zip\n",
      "  inflating: apple_iphone_11_reviews.csv  \n",
      ">>> rm apple-iphone-11-reviews-from-amazon-com.zip\n",
      "✅ Downloaded and unzipped both Kaggle datasets.\n"
     ]
    }
   ],
   "source": [
    "#Kaggle Download  \n",
    "from src.src_kaggle_dl import download_kaggle_datasets\n",
    "download_kaggle_datasets() "
   ]
  },
  {
   "cell_type": "code",
   "execution_count": 21,
   "id": "62a3a1e4-0c4e-4f33-8af1-912ffea6a2f0",
   "metadata": {},
   "outputs": [
    {
     "name": "stdout",
     "output_type": "stream",
     "text": [
      "[+] Cleaned 5010 records → AMA_XR_ iphonecleaned.csv\n",
      "[+] Cleaned 3062 rows → AMA13_ iphonecleaned.csv\n"
     ]
    }
   ],
   "source": [
    "#AMAZON Kaggle SOURCE CLEANING & Loading.py\n",
    "#1.apple_iphone_XR_reviews.csv\n",
    "from src.src_AMA_cleaning import clean_ama13_reviews, clean_ama_xr_reviews\n",
    "df_xr = clean_ama_xr_reviews(\n",
    "    input_csv='apple_iphone_11_reviews.csv',\n",
    "    output_csv='AMA_XR_ iphonecleaned.csv'\n",
    ")\n",
    "df_13  = clean_ama13_reviews(\n",
    "    input_csv='iphone.csv',\n",
    "    output_csv='AMA13_ iphonecleaned.csv'\n",
    ")"
   ]
  },
  {
   "cell_type": "code",
   "execution_count": 23,
   "id": "52398b22-de11-49e3-a1e1-cabcc8126b57",
   "metadata": {},
   "outputs": [],
   "source": [
    "#IMPORT FROM SRC_ANALYZE.py\n",
    "import pandas as pd \n",
    "from src.src_analyze import (\n",
    "    analyze_keywords_sentiment,\n",
    "    build_common_keyword_df,\n",
    "    analyze_time_sentiment,\n",
    "    build_balanced_sample,\n",
    "    compute_rating_cdfs,\n",
    "    compute_feature_rating_stats\n",
    ")"
   ]
  },
  {
   "cell_type": "code",
   "execution_count": 25,
   "id": "bf02e57d-eadb-4f8f-bc9e-f1c5d3328d45",
   "metadata": {},
   "outputs": [],
   "source": [
    "#IMPORT FROM SRC_VISUALIZE.py\n",
    "from src.src_visualize import (\n",
    "    visualize_top_features,\n",
    "    plot_common_keyword_freq,\n",
    "    compare_time_sentiment,\n",
    "    plot_avg_sentiment_by_platform,\n",
    "    plot_avg_sentiment_by_platform_version,\n",
    "    plot_rating_cdf,\n",
    "    plot_feature_rating_stats\n",
    ")\n",
    "import pandas as pd "
   ]
  },
  {
   "cell_type": "code",
   "execution_count": 27,
   "id": "006a84bb-f5d0-433f-8a38-a66cd902b32f",
   "metadata": {},
   "outputs": [
    {
     "ename": "NameError",
     "evalue": "name 'df_sub' is not defined",
     "output_type": "error",
     "traceback": [
      "\u001b[0;31m---------------------------------------------------------------------------\u001b[0m",
      "\u001b[0;31mNameError\u001b[0m                                 Traceback (most recent call last)",
      "Cell \u001b[0;32mIn[27], line 3\u001b[0m\n\u001b[1;32m      1\u001b[0m \u001b[38;5;66;03m#START TO GIVE YOU RESULT: \u001b[39;00m\n\u001b[1;32m      2\u001b[0m \u001b[38;5;66;03m#1.Function to analyze Cross-Version Reddit Sentiment Analysis: \u001b[39;00m\n\u001b[0;32m----> 3\u001b[0m feature_ave_sent_XR \u001b[38;5;241m=\u001b[39m analyze_keywords_sentiment(df_reddit, \u001b[38;5;124m'\u001b[39m\u001b[38;5;124miPhoneXR\u001b[39m\u001b[38;5;124m'\u001b[39m)\n\u001b[1;32m      4\u001b[0m feature_ave_sent_13 \u001b[38;5;241m=\u001b[39m analyze_keywords_sentiment(df_reddit, \u001b[38;5;124m'\u001b[39m\u001b[38;5;124miPhone13\u001b[39m\u001b[38;5;124m'\u001b[39m) \n\u001b[1;32m      5\u001b[0m  \u001b[38;5;66;03m#.Visualize to analyze Cross-Version Reddit Sentiment Analysis: \u001b[39;00m\n",
      "File \u001b[0;32m~/Desktop/final_project/src/src_analyze.py:22\u001b[0m, in \u001b[0;36manalyze_keywords_sentiment\u001b[0;34m(df, subreddit_name)\u001b[0m\n\u001b[1;32m     19\u001b[0m feature_sentiment \u001b[38;5;241m=\u001b[39m {} \n\u001b[1;32m     21\u001b[0m \u001b[38;5;66;03m# Iterate through rows to collect features and their corresponding sentiments\u001b[39;00m\n\u001b[0;32m---> 22\u001b[0m \u001b[38;5;28;01mfor\u001b[39;00m _, row \u001b[38;5;129;01min\u001b[39;00m df_sub\u001b[38;5;241m.\u001b[39miterrows():\n\u001b[1;32m     23\u001b[0m     post_sent \u001b[38;5;241m=\u001b[39m row[\u001b[38;5;124m'\u001b[39m\u001b[38;5;124mpost_sentiment\u001b[39m\u001b[38;5;124m'\u001b[39m]\n\u001b[1;32m     24\u001b[0m     features \u001b[38;5;241m=\u001b[39m row\u001b[38;5;241m.\u001b[39mget(\u001b[38;5;124m'\u001b[39m\u001b[38;5;124mfeatures_in_post\u001b[39m\u001b[38;5;124m'\u001b[39m, \u001b[38;5;28;01mNone\u001b[39;00m)\n",
      "\u001b[0;31mNameError\u001b[0m: name 'df_sub' is not defined"
     ]
    }
   ],
   "source": [
    "#START TO GIVE YOU RESULT: \n",
    "#1.Function to analyze Cross-Version Reddit Sentiment Analysis: \n",
    "feature_ave_sent_XR = analyze_keywords_sentiment(df_reddit, 'iPhoneXR')\n",
    "feature_ave_sent_13 = analyze_keywords_sentiment(df_reddit, 'iPhone13') \n",
    " #.Visualize to analyze Cross-Version Reddit Sentiment Analysis: \n",
    "visualize_top_features(feature_ave_sent_XR, 'iPhoneXR')\n",
    "visualize_top_features(feature_ave_sent_13, 'iPhone13') "
   ]
  },
  {
   "cell_type": "code",
   "execution_count": null,
   "id": "b7b44e96-b0d3-4f94-8bea-51cf281fad18",
   "metadata": {},
   "outputs": [],
   "source": [
    "#2.KeyWord Frequency Analysis \n",
    "df_common = build_common_keyword_df(df_reddit, 'iPhone13', 'iPhoneXR')\n",
    "plot_common_keyword_freq(df_common, 'iPhone13', 'iPhoneXR')"
   ]
  },
  {
   "cell_type": "code",
   "execution_count": null,
   "id": "15d87855-a235-4e59-9e7d-cc65bf6d16d2",
   "metadata": {},
   "outputs": [],
   "source": [
    "#3.Time vs. sentiment comparison\n",
    "compare_time_sentiment(df_reddit)"
   ]
  },
  {
   "cell_type": "code",
   "execution_count": null,
   "id": "87e60173-5842-4236-94ef-091d8abffa2e",
   "metadata": {},
   "outputs": [],
   "source": [
    "#4.Cross-platform sentiment bar\n",
    "combined = build_balanced_sample(\n",
    "    'AMA13_iphonecleaned.csv',\n",
    "    'AMA_XR_iphonecleaned.csv',\n",
    "    'newreddit_iphone13XRcleaned.csv',\n",
    "    n=200\n",
    ")\n",
    "#visualize\n",
    "plot_avg_sentiment_by_platform(combined)\n",
    "plot_avg_sentiment_by_platform_version(combined)"
   ]
  },
  {
   "cell_type": "code",
   "execution_count": null,
   "id": "86513358-2fc2-401d-8ddf-7e742ff724c3",
   "metadata": {},
   "outputs": [],
   "source": [
    "#5.AMAZON SCORE CDF ANALYSIS\n",
    "xr_sorted, xr_cdf, x13_sorted, x13_cdf = compute_rating_cdfs(df_xr, df_13)\n",
    "#Visualize\n",
    "plot_rating_cdf(xr_sorted, xr_cdf, x13_sorted, x13_cdf)"
   ]
  },
  {
   "cell_type": "code",
   "execution_count": null,
   "id": "d5080833-6166-4c3b-b0d4-bdcd0064f5f3",
   "metadata": {},
   "outputs": [],
   "source": [
    "# 6.Feature–rating relationship (Amazon)\n",
    "feat_stats_xr = compute_feature_rating_stats(df_xr)\n",
    "feat_stats_13 = compute_feature_rating_stats(df_13)\n",
    "\n",
    "plot_feature_rating_stats(feat_stats_xr, title='iPhone XR: Avg Rating by Feature')\n",
    "plot_feature_rating_stats(feat_stats_13, title='iPhone 13: Avg Rating by Feature')\n"
   ]
  },
  {
   "cell_type": "code",
   "execution_count": null,
   "id": "f3090ce0-df4f-4b04-aeca-06c04c0e45e9",
   "metadata": {},
   "outputs": [],
   "source": []
  }
 ],
 "metadata": {
  "kernelspec": {
   "display_name": "Python 3 (ipykernel)",
   "language": "python",
   "name": "python3"
  },
  "language_info": {
   "codemirror_mode": {
    "name": "ipython",
    "version": 3
   },
   "file_extension": ".py",
   "mimetype": "text/x-python",
   "name": "python",
   "nbconvert_exporter": "python",
   "pygments_lexer": "ipython3",
   "version": "3.12.4"
  }
 },
 "nbformat": 4,
 "nbformat_minor": 5
}
