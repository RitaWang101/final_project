{
 "cells": [
  {
   "cell_type": "code",
   "execution_count": null,
   "id": "6e8fb066-796e-4a32-9f63-fda5fcee4e8e",
   "metadata": {},
   "outputs": [],
   "source": [
    "#Import the parse.py and reddit_clean.py\n",
    "from src.src_parse import fetch_data\n",
    "from src.src_reddit_cleaning import clean_reddit_comments\n",
    "import pandas as pd"
   ]
  },
  {
   "cell_type": "code",
   "execution_count": null,
   "id": "3b1618dc-b5ac-45d3-95a0-ced250b68f54",
   "metadata": {},
   "outputs": [],
   "source": [
    "#Fetch raw Reddit data\n",
    "raw_reddit_df = fetch_data()\n",
    "print(f\"Fetched {len(raw_reddit_df)} posts\") \n",
    "raw_reddit_df.to_csv(\"reddit_iphone13XR_data.csv\", index=False, encoding=\"utf-8-sig\")"
   ]
  },
  {
   "cell_type": "code",
   "execution_count": null,
   "id": "e330c364-2839-4f1b-988d-d6ebe0c8daee",
   "metadata": {},
   "outputs": [],
   "source": [
    "#REDDIT SOURCE CLEANING\n",
    "df_reddit = clean_reddit_comments(\n",
    "    input_csv='reddit_iphone13XR_data.csv',\n",
    "    output_csv='newreddit_iphone13XRcleaned.csv'\n",
    ")\n",
    "print(\"Reddit cleaned:\", df_reddit_clean.shape)"
   ]
  },
  {
   "cell_type": "code",
   "execution_count": null,
   "id": "d3cbd619-eefa-4c32-89f2-951e7f6bd2ae",
   "metadata": {},
   "outputs": [],
   "source": [
    "#Kaggle Download  \n",
    "from src.src_kaggle_dl import download_kaggle_datasets\n",
    "download_kaggle_datasets() "
   ]
  },
  {
   "cell_type": "code",
   "execution_count": null,
   "id": "62a3a1e4-0c4e-4f33-8af1-912ffea6a2f0",
   "metadata": {},
   "outputs": [],
   "source": [
    "#AMAZON Kaggle SOURCE CLEANING & Loading.py\n",
    "#1.apple_iphone_XR_reviews.csv\n",
    "from src.src_AMA_cleaning import clean_ama13_reviews, clean_ama_xr_reviews\n",
    "df_xr = clean_ama_xr_reviews(\n",
    "    input_csv='apple_iphone_11_reviews.csv',\n",
    "    output_csv='AMA_XR_ iphonecleaned.csv'\n",
    ")\n",
    "df_13  = clean_ama13_reviews(\n",
    "    input_csv='iphone.csv',\n",
    "    output_csv='AMA13_ iphonecleaned.csv'\n",
    ")"
   ]
  },
  {
   "cell_type": "code",
   "execution_count": null,
   "id": "52398b22-de11-49e3-a1e1-cabcc8126b57",
   "metadata": {},
   "outputs": [],
   "source": [
    "#IMPORT FROM SRC_ANALYZE.py\n",
    "import pandas as pd \n",
    "from src.src_analyze import (\n",
    "    analyze_keywords_sentiment,\n",
    "    build_common_keyword_df,\n",
    "    analyze_time_sentiment,\n",
    "    build_balanced_sample,\n",
    "    compute_rating_cdfs,\n",
    "    compute_feature_rating_stats\n",
    ")"
   ]
  },
  {
   "cell_type": "code",
   "execution_count": null,
   "id": "bf02e57d-eadb-4f8f-bc9e-f1c5d3328d45",
   "metadata": {},
   "outputs": [],
   "source": [
    "#IMPORT FROM SRC_VISUALIZE.py\n",
    "from src.src_visualize import (\n",
    "    visualize_top_features,\n",
    "    plot_common_keyword_freq,\n",
    "    compare_time_sentiment,\n",
    "    plot_avg_sentiment_by_platform,\n",
    "    plot_avg_sentiment_by_platform_version,\n",
    "    plot_rating_cdf,\n",
    "    plot_feature_rating_stats\n",
    ")\n",
    "import pandas as pd "
   ]
  },
  {
   "cell_type": "code",
   "execution_count": null,
   "id": "983aa2a8-9669-49c5-b12c-ede5d21598e1",
   "metadata": {},
   "outputs": [],
   "source": [
    "#START TO GIVE YOU RESULT: \n",
    "#1.Function to analyze Cross-Version Reddit Sentiment Analysis: \n",
    "feature_ave_sent_XR = analyze_keywords_sentiment(df_reddit, 'iPhoneXR')\n",
    "feature_ave_sent_13 = analyze_keywords_sentiment(df_reddit, 'iPhone13') \n",
    " #.Visualize to analyze Cross-Version Reddit Sentiment Analysis: \n",
    "visualize_top_features(feature_ave_sent_XR, 'iPhoneXR')\n",
    "visualize_top_features(feature_ave_sent_13, 'iPhone13') "
   ]
  },
  {
   "cell_type": "code",
   "execution_count": null,
   "id": "b7b44e96-b0d3-4f94-8bea-51cf281fad18",
   "metadata": {},
   "outputs": [],
   "source": [
    "#2.KeyWord Frequency Analysis \n",
    "df_common = build_common_keyword_df(df_reddit, 'iPhone13', 'iPhoneXR')\n",
    "plot_common_keyword_freq(df_common, 'iPhone13', 'iPhoneXR')"
   ]
  },
  {
   "cell_type": "code",
   "execution_count": null,
   "id": "15d87855-a235-4e59-9e7d-cc65bf6d16d2",
   "metadata": {},
   "outputs": [],
   "source": [
    "#3.Time vs. sentiment comparison\n",
    "compare_time_sentiment(df_reddit)"
   ]
  },
  {
   "cell_type": "code",
   "execution_count": null,
   "id": "87e60173-5842-4236-94ef-091d8abffa2e",
   "metadata": {},
   "outputs": [],
   "source": [
    "#4.Cross-platform sentiment bar\n",
    "combined = build_balanced_sample(\n",
    "    'AMA13_iphonecleaned.csv',\n",
    "    'AMA_XR_iphonecleaned.csv',\n",
    "    'newreddit_iphone13XRcleaned.csv',\n",
    "    n=200\n",
    ")\n",
    "#visualize\n",
    "plot_avg_sentiment_by_platform(combined)\n",
    "plot_avg_sentiment_by_platform_version(combined)"
   ]
  },
  {
   "cell_type": "code",
   "execution_count": null,
   "id": "86513358-2fc2-401d-8ddf-7e742ff724c3",
   "metadata": {},
   "outputs": [],
   "source": [
    "#5.AMAZON SCORE CDF ANALYSIS\n",
    "xr_sorted, xr_cdf, x13_sorted, x13_cdf = compute_rating_cdfs(df_xr, df_13)\n",
    "#Visualize\n",
    "plot_rating_cdf(xr_sorted, xr_cdf, x13_sorted, x13_cdf)"
   ]
  },
  {
   "cell_type": "code",
   "execution_count": null,
   "id": "d5080833-6166-4c3b-b0d4-bdcd0064f5f3",
   "metadata": {},
   "outputs": [],
   "source": [
    "# 6.Feature–rating relationship (Amazon)\n",
    "feat_stats_xr = compute_feature_rating_stats(df_xr)\n",
    "feat_stats_13 = compute_feature_rating_stats(df_13)\n",
    "\n",
    "plot_feature_rating_stats(feat_stats_xr, title='iPhone XR: Avg Rating by Feature')\n",
    "plot_feature_rating_stats(feat_stats_13, title='iPhone 13: Avg Rating by Feature')"
   ]
  }
 ],
 "metadata": {
  "kernelspec": {
   "display_name": "Python 3 (ipykernel)",
   "language": "python",
   "name": "python3"
  },
  "language_info": {
   "codemirror_mode": {
    "name": "ipython",
    "version": 3
   },
   "file_extension": ".py",
   "mimetype": "text/x-python",
   "name": "python",
   "nbconvert_exporter": "python",
   "pygments_lexer": "ipython3",
   "version": "3.12.4"
  }
 },
 "nbformat": 4,
 "nbformat_minor": 5
}
